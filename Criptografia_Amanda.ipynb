{
 "cells": [
  {
   "cell_type": "markdown",
   "metadata": {},
   "source": [
    "# Criptografia\n",
    "\n",
    "\n",
    "## Overview\n",
    "\n",
    "Nesta tarefa, você construirá dois sistemas criptográficos diferentes - cifra de César e cifra de Vigenere. Este material irá guiá-lo através dos detalhes da construção destes sistemas de criptografia baseada em texto. Queremos estimular boas práticas de Python desde o começo - então nós encorajamos você a pensar criticamente sobre como escrever código Python limpo.\n",
    "\n",
    "## Criando as Cifras\n",
    "\n",
    "Nesta seção, você criará funções de criptografia para criptografar e descriptografar mensagens. Vamos dar uma breve visão geral de cada código.\n",
    "\n",
    "### Cifra de César\n",
    "\n",
    "Uma cifra de César envolve a mudança de cada caractere em um texto simples por três letras adiante:\n",
    "\n",
    "```\n",
    "A -> D, B -> E, C -> F, etc... \n",
    "```\n",
    "\n",
    "No final do alfabeto, o mapeamento de cifra volta ao início, portanto:\n",
    "\n",
    "```\n",
    "..., X -> A, Y -> B, Z -> C.\n",
    "```\n",
    "\n",
    "Por exemplo, criptografar `'PYTHON'` usando uma cifra de Caesar dá\n",
    " \n",
    "```\n",
    "PYTHON\n",
    "||||||\n",
    "SBWKRQ\n",
    "```\n",
    "\n",
    "Nesta parte, implemente as funções:\n",
    "\n",
    "```Python\n",
    "encrypt_caesar(plaintext)\n",
    "decrypt_caesar(ciphertext)\n",
    "```\n",
    "\n",
    "Cada uma dessas funções leva um argumento, uma cadeia representando uma mensagem a ser criptografada ou descriptografada, e retorna uma cadeia representando a mensagem criptografada ou descriptografada.\n",
    "\n",
    "Notas:\n",
    "\n",
    "- Caracteres não alfabéticos não devem ser modificados.\n",
    "- Você pode assumir que todos os caracteres alfabéticos estarão em maiúsculas.\n",
    "- Não assuma que os argumentos para essa função sempre tenham pelo menos um caractere.\n",
    "\n",
    "Isto é, `encrypt_caesar (\" \")` deve retornar `\" \"` (a string vazia) e `encrypt_caesar (\"F1RST P0ST\")` deve retornar `\"I1UVW S0VW\"`.\n"
   ]
  },
  {
   "cell_type": "code",
   "execution_count": 79,
   "metadata": {},
   "outputs": [
    {
     "name": "stdout",
     "output_type": "stream",
     "text": [
      "D\n",
      "E\n",
      "L\n",
      "A\n",
      "C\n",
      "DD\n",
      "WK\n",
      "FDW\n",
      "GRJ\n",
      "WRR\n",
      "GDPQ\n",
      "GDQLHO\n",
      "SBWKRQ\n",
      "ZKHHHHHH\n",
      "ZLWK VSDFH\n",
      "ZLWK WZR VSDFHV\n",
      "QXP83U5\n",
      "0GG !W$\n"
     ]
    }
   ],
   "source": [
    "ALFABETO = 'ABCDEFGHIJKLMNOPQRSTUVWXYZ' #vetor de strings\n",
    "ADD = 3 #constante de soma\n",
    "\n",
    "def encrypt_caesar(plaintext):\n",
    "    \"\"\"Encrypt a plaintext using a Caesar cipher.\"\"\"\n",
    "    c = \"\"\n",
    "    \n",
    "    for letra in plaintext:\n",
    "        if letra in ALFABETO:\n",
    "            letra_index = ALFABETO.index(letra) \n",
    "            c += ALFABETO[(letra_index + ADD) % 26]   \n",
    "        else:\n",
    "            c += letra\n",
    "            \n",
    "    return c\n",
    "\n",
    "print(encrypt_caesar('A'))\n",
    "print(encrypt_caesar('B'))\n",
    "print(encrypt_caesar('I'))\n",
    "print(encrypt_caesar('X'))\n",
    "print(encrypt_caesar('Z'))\n",
    "print(encrypt_caesar('AA'))\n",
    "print(encrypt_caesar('TH'))\n",
    "print(encrypt_caesar('CAT'))\n",
    "print(encrypt_caesar('DOG'))\n",
    "print(encrypt_caesar('TOO'))\n",
    "print(encrypt_caesar('DAMN'))\n",
    "print(encrypt_caesar('DANIEL'))\n",
    "print(encrypt_caesar('PYTHON'))\n",
    "print(encrypt_caesar('WHEEEEEE'))\n",
    "print(encrypt_caesar('WITH SPACE'))\n",
    "print(encrypt_caesar('WITH TWO SPACES'))\n",
    "print(encrypt_caesar('NUM83R5'))\n",
    "print(encrypt_caesar('0DD !T$'))"
   ]
  },
  {
   "cell_type": "code",
   "execution_count": 80,
   "metadata": {},
   "outputs": [
    {
     "name": "stdout",
     "output_type": "stream",
     "text": [
      "A\n",
      "B\n",
      "I\n",
      "X\n",
      "Z\n",
      "AA\n",
      "TH\n",
      "CAT\n",
      "DOG\n",
      "TOO\n",
      "DAMN\n",
      "DANIEL\n",
      "PYTHON\n",
      "WHEEEEEE\n",
      "WITH SPACE\n",
      "WITH TWO SPACES\n",
      "NUM83R5\n",
      "0DD !T$\n"
     ]
    }
   ],
   "source": [
    "def decrypt_caesar(ciphertext):\n",
    "    \"\"\"Decrypt a ciphertext using a Caesar cipher.\"\"\"\n",
    "    c = \"\"\n",
    "    \n",
    "    for letra in ciphertext:\n",
    "        if letra in ALFABETO:\n",
    "            letra_index = ALFABETO.index(letra) #indice da letra no vetor de strings\n",
    "            c += ALFABETO[(letra_index - ADD) % 26] #primeiro processo da criptografia  \n",
    "        else:\n",
    "            c += letra\n",
    "            \n",
    "    return c\n",
    "\n",
    "    # Your implementation here.\n",
    "    raise NotImplementedError('decrypt_caesar is not yet implemented!')\n",
    "\n",
    "print(decrypt_caesar('D'))\n",
    "print(decrypt_caesar('E'))\n",
    "print(decrypt_caesar('L'))\n",
    "print(decrypt_caesar('A'))\n",
    "print(decrypt_caesar('C'))\n",
    "print(decrypt_caesar('DD'))\n",
    "print(decrypt_caesar('WK'))\n",
    "print(decrypt_caesar('FDW'))\n",
    "print(decrypt_caesar('GRJ'))\n",
    "print(decrypt_caesar('WRR'))\n",
    "print(decrypt_caesar('GDPQ'))\n",
    "print(decrypt_caesar('GDQLHO'))\n",
    "print(decrypt_caesar('SBWKRQ'))\n",
    "print(decrypt_caesar('ZKHHHHHH'))\n",
    "print(decrypt_caesar('ZLWK VSDFH'))\n",
    "print(decrypt_caesar('ZLWK WZR VSDFHV'))\n",
    "print(decrypt_caesar('QXP83U5'))\n",
    "print(decrypt_caesar('0GG !W$'))\n"
   ]
  },
  {
   "cell_type": "code",
   "execution_count": 81,
   "metadata": {},
   "outputs": [
    {
     "data": {
      "text/plain": [
       "True"
      ]
     },
     "execution_count": 81,
     "metadata": {},
     "output_type": "execute_result"
    }
   ],
   "source": [
    "all([\n",
    "  encrypt_caesar('A') == 'D',\n",
    "  encrypt_caesar('B') == 'E',\n",
    "  encrypt_caesar('I') == 'L',\n",
    "  encrypt_caesar('X') == 'A',\n",
    "  encrypt_caesar('Z') == 'C',\n",
    "  encrypt_caesar('AA') == 'DD',\n",
    "  encrypt_caesar('TH') == 'WK',\n",
    "  encrypt_caesar('CAT') == 'FDW',\n",
    "  encrypt_caesar('DOG') == 'GRJ',\n",
    "  encrypt_caesar('TOO') == 'WRR',\n",
    "  encrypt_caesar('DAMN') == 'GDPQ',\n",
    "  encrypt_caesar('DANIEL') == 'GDQLHO',\n",
    "  encrypt_caesar('PYTHON') == 'SBWKRQ',\n",
    "  encrypt_caesar('WHEEEEEE') == 'ZKHHHHHH',\n",
    "  encrypt_caesar('WITH SPACE') == 'ZLWK VSDFH',\n",
    "  encrypt_caesar('WITH TWO SPACES') == 'ZLWK WZR VSDFHV',\n",
    "  encrypt_caesar('NUM83R5') == 'QXP83U5',\n",
    "  encrypt_caesar('0DD !T$') == '0GG !W$',\n",
    "])"
   ]
  },
  {
   "cell_type": "code",
   "execution_count": 82,
   "metadata": {},
   "outputs": [
    {
     "data": {
      "text/plain": [
       "True"
      ]
     },
     "execution_count": 82,
     "metadata": {},
     "output_type": "execute_result"
    }
   ],
   "source": [
    "all([\n",
    "  decrypt_caesar('D') == 'A',\n",
    "  decrypt_caesar('E') == 'B',\n",
    "  decrypt_caesar('L') == 'I',\n",
    "  decrypt_caesar('A') == 'X',\n",
    "  decrypt_caesar('C') == 'Z',\n",
    "  decrypt_caesar('DD') == 'AA',\n",
    "  decrypt_caesar('WK') == 'TH',\n",
    "  decrypt_caesar('FDW') == 'CAT',\n",
    "  decrypt_caesar('GRJ') == 'DOG',\n",
    "  decrypt_caesar('WRR') == 'TOO',\n",
    "  decrypt_caesar('GDPQ') == 'DAMN',\n",
    "  decrypt_caesar('GDQLHO') == 'DANIEL',\n",
    "  decrypt_caesar('SBWKRQ') == 'PYTHON',\n",
    "  decrypt_caesar('ZKHHHHHH') == 'WHEEEEEE',\n",
    "  decrypt_caesar('ZLWK VSDFH') == 'WITH SPACE',\n",
    "  decrypt_caesar('ZLWK WZR VSDFHV') == 'WITH TWO SPACES',\n",
    "  decrypt_caesar('QXP83U5') == 'NUM83R5',\n",
    "  decrypt_caesar('0GG !W$') == '0DD !T$',\n",
    "])"
   ]
  },
  {
   "cell_type": "markdown",
   "metadata": {},
   "source": [
    "### Cifra de Vigenere\n",
    "\n",
    "Uma cifra de Vigenere é semelhante em natureza a uma cifra de César. No entanto, em uma cifra de Vigenere, cada caractere no texto simples pode ser alterado por uma quantidade variável. A quantidade para mudar qualquer letra no texto plano é determinada por uma palavra-chave, onde 'A' corresponde ao deslocamento de 0 (sem deslocamento), 'B' corresponde a um deslocamento de 1, ... e 'Z' corresponde a um deslocamento de 25, voltando ao início se necessário (como com a cifra de César).\n",
    "\n",
    "A palavra-chave é repetida ou truncada conforme necessário para ajustar o tamanho do texto simples. Como exemplo, criptografar `\" ATTACKATDAWN \"` com a chave `\" LEMON \"` fornece:\n",
    "\n",
    "\n",
    "```\n",
    "Plaintext:      ATTACKATDAWN\n",
    "Key:            LEMONLEMONLE\n",
    "Ciphertext:     LXFOPVEFRNHR\n",
    "```\n",
    "\n",
    "Olhando mais de perto, cada letra no texto cifrado é a soma das letras no texto simples e na chave. Assim, o primeiro caractere do texto cifrado é `\"L\"` devido aos seguintes cálculos:\n",
    "\n",
    "```\n",
    "A + L = 0 + 11 = 11 -> L\n",
    "```\n",
    "\n",
    "O segundo caractere do texto cifrado é `\"X\"` porque mudando `\"T\"` por 4 (associado ao deslocamento por `\"E\"`) fornece:\n",
    "\n",
    "```\n",
    "T + E = 19 + 4 = 23 -> X\n",
    "```\n",
    "\n",
    "Note que, uma vez que estamos considerando A para codificar 0, nossos índices são a posição ordinal de uma letra no alfabeto. Isto é, mesmo que E seja a 5ª letra do alfabeto, ela codifica um deslocamento de 4.\n",
    "\n",
    "O terceiro caractere do texto cifrado é `\"F\"` porque:\n",
    "\n",
    "```\n",
    "T + M = 19 + 12 = 31 -> 5 -> F\n",
    "```\n",
    "\n",
    "Nós contornamos o alfabeto de +31 a +5, resultando em um caractere de texto cifrado de saída de `\"F\"`.\n",
    "\n",
    "Implemente as funções:\n",
    "\n",
    "```Python\n",
    "encrypt_vigenere(plaintext, keyword)\n",
    "decrypt_vigenere(ciphertext, keyword)\n",
    "```\n",
    "\n",
    "Essas funções levam dois argumentos, uma mensagem para criptografar (ou descriptografar) e uma palavra-chave para criptografia ou descriptografia. Ambas as funções devem retornar a mensagem criptografada (ou descriptografada).\n",
    "\n",
    "Notas:\n",
    "\n",
    "- Você pode assumir que todos os caracteres no texto simples, no texto cifrado e na palavra-chave serão alfabéticos (ou seja, sem espaços, números ou pontuação).\n",
    "- Você pode assumir que todos os caracteres serão fornecidos em letras maiúsculas.\n",
    "- Você pode assumir que a palavra-chave terá pelo menos uma letra nela."
   ]
  },
  {
   "cell_type": "code",
   "execution_count": 93,
   "metadata": {},
   "outputs": [],
   "source": [
    "ALFABETO = 'ABCDEFGHIJKLMNOPQRSTUVWXYZ' #vetor de strings\n",
    "\n",
    "def encrypt_vigenere(plaintext, keyword):\n",
    "    \"\"\"Encrypt plaintext using a Vigenere cipher with a keyword.\"\"\"\n",
    "    \n",
    "    keyword_len = len(keyword)\n",
    "    ciphertext = \"\"\n",
    "    \n",
    "    for i in range(keyword_len, len(plaintext)):\n",
    "        keyword += keyword[i % keyword_len]                \n",
    "    \n",
    "    for c, k in zip(plaintext, keyword):\n",
    "        if c in ALFABETO:\n",
    "            position = (ALFABETO.index(c) + ALFABETO.index(k)) % 26\n",
    "            ciphertext += ALFABETO[position]\n",
    "        else:\n",
    "            ciphertext += c                    \n",
    "            \n",
    "    return ciphertext\n",
    "    raise NotImplementedError('encrypt_vigenere is not yet implemented!')\n",
    "\n",
    "\n",
    "def decrypt_vigenere(ciphertext, keyword):\n",
    "    \"\"\"Decrypt ciphertext using a Vigenere cipher with a keyword.\"\"\"\n",
    "    \n",
    "    keyword_len = len(keyword)\n",
    "    plaintext = \"\"\n",
    "    \n",
    "    for i in range(keyword_len, len(ciphertext)):\n",
    "        keyword += keyword[i % keyword_len]                \n",
    "    \n",
    "    for c, k in zip(ciphertext, keyword):\n",
    "        if c in ALFABETO:\n",
    "            if k <= c:\n",
    "                position = ALFABETO.index(c) - ALFABETO.index(k)\n",
    "            else:\n",
    "                position = (26 + ALFABETO.index(c)) - ALFABETO.index(k)\n",
    "            plaintext += ALFABETO[position]\n",
    "        else:\n",
    "            plaintext += c                    \n",
    "            \n",
    "    return plaintext\n",
    "    raise NotImplementedError('decrypt_vigenere is not yet implemented!')"
   ]
  },
  {
   "cell_type": "code",
   "execution_count": 94,
   "metadata": {},
   "outputs": [
    {
     "name": "stdout",
     "output_type": "stream",
     "text": [
      "FLEEATONCE\n",
      "PTOPA\n",
      "LXFOPVEFRNHR\n",
      "HIMFROMEQBGIDSQ\n",
      "IILFRPMDQBHICSQ\n",
      "KTFGPXMCXOI\n",
      "OAEF\n",
      "OWEI\n",
      "HYFLZRVYMH\n",
      "PFNQRDOIDX\n",
      "O\n"
     ]
    }
   ],
   "source": [
    "print(encrypt_vigenere('FLEEATONCE', 'A'))\n",
    "print(encrypt_vigenere('IMHIT', 'H')) \n",
    "print(encrypt_vigenere('ATTACKATDAWN', 'LEMON'))\n",
    "print(encrypt_vigenere('WEAREDISCOVERED', 'LEMON'))\n",
    "print(encrypt_vigenere('WEAREDISCOVERED', 'MELON'))\n",
    "print(encrypt_vigenere('CANTBELIEVE', 'ITSNOTBUTTER'))\n",
    "print(encrypt_vigenere('CART', 'MAN'))\n",
    "print(encrypt_vigenere('HYPE', 'HYPE'))\n",
    "print(encrypt_vigenere('SAMELENGTH', 'PYTHONISTA'))\n",
    "print(encrypt_vigenere('SHORTERKEY', 'XYZZYZ'))\n",
    "print(encrypt_vigenere('A', 'ONEINPUT'))"
   ]
  },
  {
   "cell_type": "code",
   "execution_count": 96,
   "metadata": {},
   "outputs": [
    {
     "name": "stdout",
     "output_type": "stream",
     "text": [
      "FLEEATONCE\n",
      "IMHIT\n",
      "ATTACKATDAWN\n",
      "WEAREDISCOVERED\n",
      "WEAREDISCOVERED\n",
      "CANTBELIEVE\n",
      "CART\n",
      "HYPE\n",
      "SAMELENGTH\n",
      "SHORTERKEY\n",
      "A\n"
     ]
    }
   ],
   "source": [
    "print(decrypt_vigenere('FLEEATONCE', 'A'))\n",
    "print(decrypt_vigenere('PTOPA', 'H'))\n",
    "print(decrypt_vigenere('LXFOPVEFRNHR', 'LEMON'))\n",
    "print(decrypt_vigenere('HIMFROMEQBGIDSQ', 'LEMON'))\n",
    "print(decrypt_vigenere('IILFRPMDQBHICSQ', 'MELON'))\n",
    "print(decrypt_vigenere('KTFGPXMCXOI', 'ITSNOTBUTTER'))\n",
    "print(decrypt_vigenere('OAEF', 'MAN'))\n",
    "print(decrypt_vigenere('OWEI', 'HYPE'))\n",
    "print(decrypt_vigenere('HYFLZRVYMH', 'PYTHONISTA'))\n",
    "print(decrypt_vigenere('PFNQRDOIDX', 'XYZZYZ'))\n",
    "print(decrypt_vigenere('O', 'ONEINPUT'))"
   ]
  },
  {
   "cell_type": "code",
   "execution_count": 97,
   "metadata": {},
   "outputs": [
    {
     "data": {
      "text/plain": [
       "True"
      ]
     },
     "execution_count": 97,
     "metadata": {},
     "output_type": "execute_result"
    }
   ],
   "source": [
    "all([\n",
    "  encrypt_vigenere('FLEEATONCE', 'A') == 'FLEEATONCE',\n",
    "  encrypt_vigenere('IMHIT', 'H') == 'PTOPA',\n",
    "  encrypt_vigenere('ATTACKATDAWN', 'LEMON') == 'LXFOPVEFRNHR',\n",
    "  encrypt_vigenere('WEAREDISCOVERED', 'LEMON') == 'HIMFROMEQBGIDSQ',\n",
    "  encrypt_vigenere('WEAREDISCOVERED', 'MELON') == 'IILFRPMDQBHICSQ',\n",
    "  encrypt_vigenere('CANTBELIEVE', 'ITSNOTBUTTER') == 'KTFGPXMCXOI',\n",
    "  encrypt_vigenere('CART', 'MAN') == 'OAEF',\n",
    "  encrypt_vigenere('HYPE', 'HYPE') == 'OWEI',\n",
    "  encrypt_vigenere('SAMELENGTH', 'PYTHONISTA') == 'HYFLZRVYMH',\n",
    "  encrypt_vigenere('SHORTERKEY', 'XYZZYZ') == 'PFNQRDOIDX',\n",
    "  encrypt_vigenere('A', 'ONEINPUT') == 'O',\n",
    "])"
   ]
  },
  {
   "cell_type": "code",
   "execution_count": 98,
   "metadata": {},
   "outputs": [
    {
     "data": {
      "text/plain": [
       "True"
      ]
     },
     "execution_count": 98,
     "metadata": {},
     "output_type": "execute_result"
    }
   ],
   "source": [
    "all([\n",
    "  decrypt_vigenere('FLEEATONCE', 'A') == 'FLEEATONCE',\n",
    "  decrypt_vigenere('PTOPA', 'H') == 'IMHIT',\n",
    "  decrypt_vigenere('LXFOPVEFRNHR', 'LEMON') == 'ATTACKATDAWN',\n",
    "  decrypt_vigenere('HIMFROMEQBGIDSQ', 'LEMON') == 'WEAREDISCOVERED',\n",
    "  decrypt_vigenere('IILFRPMDQBHICSQ', 'MELON') == 'WEAREDISCOVERED',\n",
    "  decrypt_vigenere('KTFGPXMCXOI', 'ITSNOTBUTTER') == 'CANTBELIEVE',\n",
    "  decrypt_vigenere('OAEF', 'MAN') == 'CART',\n",
    "  decrypt_vigenere('OWEI', 'HYPE') == 'HYPE',\n",
    "  decrypt_vigenere('HYFLZRVYMH', 'PYTHONISTA') == 'SAMELENGTH',\n",
    "  decrypt_vigenere('PFNQRDOIDX', 'XYZZYZ') == 'SHORTERKEY',\n",
    "  decrypt_vigenere('O', 'ONEINPUT') == 'A',\n",
    "])"
   ]
  },
  {
   "cell_type": "markdown",
   "metadata": {},
   "source": [
    "## Bônus\n",
    "\n",
    "Dê uma olhada em `not_a_secret_message.txt`. Uma extensão possível é tentar descriptografar essa mensagem (ou qualquer mensagem criptografada!). Apesar de não saber qual é a chave. Para essa criptografia, ignore completamente caracteres não alfabéticos.\n",
    "\n",
    "## Dicas\n",
    "\n",
    "O módulo `string` exporta alguns valores úteis:\n",
    "\n",
    "```python\n",
    ">>> import string\n",
    "\n",
    ">>> string.ascii_letters\n",
    "'abcdefghijklmnopqrstuvwxyzABCDEFGHIJKLMNOPQRSTUVWXYZ'\n",
    "\n",
    ">>> string.ascii_uppercase\n",
    "'ABCDEFGHIJKLMNOPQRSTUVWXYZ'\n",
    "\n",
    ">>> string.ascii_lowercase\n",
    "'abcdefghijklmnopqrstuvwxyz'\n",
    "\n",
    ">>> string.punctuation\n",
    "'!\"#$%&\\'()*+,-./:;<=>?@[\\\\]^_`{|}~'\n",
    "```\n",
    "\n",
    "Pense no que sabemos sobre estruturas de dados. Como podemos criar e manipular eficientemente listas e dicionários?\n",
    "\n",
    "Como você pode percorrer as letras do argumento `keyword` da cifra de Vigenere? Considere olhar para funções exportadas pelo módulo `itertools`.\n",
    "\n",
    "Você pode usar as funções `ord` e` chr` que convertem strings de comprimento um para seus equivalentes numéricos ASCII. Por exemplo, `ord ('A') == 65`,` ord ('B') == 66`, ..., `ord ('Z') == 90` e` chr (65) == 'A'`, `chr (66) ==' B'`, ...,` chr (90) == 'Z'`.\n",
    "\n",
    "## Créditos\n",
    "\n",
    "*Sherman Leung (@skleung), Python Tutorial, Learn Python the Hard Way, Google Python, MIT OCW 6.189, Project Euler, and Wikipedia's list of ciphers.*\n",
    "\n",
    "> With <3 by @sredmond "
   ]
  }
 ],
 "metadata": {
  "kernelspec": {
   "display_name": "Python 3",
   "language": "python",
   "name": "python3"
  },
  "language_info": {
   "codemirror_mode": {
    "name": "ipython",
    "version": 3
   },
   "file_extension": ".py",
   "mimetype": "text/x-python",
   "name": "python",
   "nbconvert_exporter": "python",
   "pygments_lexer": "ipython3",
   "version": "3.7.1"
  }
 },
 "nbformat": 4,
 "nbformat_minor": 2
}
