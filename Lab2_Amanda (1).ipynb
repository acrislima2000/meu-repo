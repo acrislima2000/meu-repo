{
 "cells": [
  {
   "cell_type": "markdown",
   "metadata": {},
   "source": [
    "# Lab 2: Estruturas de dados"
   ]
  },
  {
   "cell_type": "markdown",
   "metadata": {},
   "source": [
    "## Investigando Estruturas de Dados\n",
    "*[Leitura opcional sobre tipos padrão - confira as seções \"Sequence types\" e \"Mapping types\"](https://docs.python.org/3/library/stdtypes.html)*"
   ]
  },
  {
   "cell_type": "markdown",
   "metadata": {},
   "source": [
    "### Listas\n",
    "Preveja o que as seguintes linhas do Python farão. Em seguida, execute o bloco de código abaixo para ver se eles correspondem ao que você espera:\n",
    "\n",
    "```Python\n",
    "s = [0] * 3\n",
    "print(s)\n",
    "s[0] += 1\n",
    "print(s)\n",
    "\n",
    "s = [''] * 3\n",
    "print(s)\n",
    "s[0] += 'a'\n",
    "print(s)\n",
    "\n",
    "s = [[]] * 3\n",
    "print(s)\n",
    "s[0] += [1]\n",
    "print(s)\n",
    "```"
   ]
  },
  {
   "cell_type": "code",
   "execution_count": 3,
   "metadata": {},
   "outputs": [
    {
     "name": "stdout",
     "output_type": "stream",
     "text": [
      "[0, 0, 0]\n",
      "[1, 0, 0]\n",
      "['', '', '']\n",
      "['a', '', '']\n",
      "[[], [], []]\n",
      "[[1], [1], [1]]\n",
      "[[], [], []]\n",
      "[[1], [], []]\n",
      "[[], [], []]\n",
      "[[1], [1], [1]]\n"
     ]
    }
   ],
   "source": [
    "# Explore os elementos das listas. A saída é o que você espera?\n",
    "s = [0] * 3\n",
    "print(s)\n",
    "s[0] += 1\n",
    "print(s)\n",
    "\n",
    "s = [''] * 3\n",
    "print(s)\n",
    "s[0] += 'a'\n",
    "print(s)\n",
    "\n",
    "s = [[]] * 3\n",
    "print(s)\n",
    "s[0] += [1]\n",
    "print(s)\n",
    "\n",
    "s = [[]] * 3\n",
    "print(s)\n",
    "s[0] = s[0]+[1]\n",
    "print(s)\n",
    "\n",
    "s = [[]] * 3\n",
    "print(s)\n",
    "s[0].append(1)\n",
    "print(s)"
   ]
  },
  {
   "cell_type": "markdown",
   "metadata": {},
   "source": [
    "Por que isso está acontecendo? Considere usar a função `id` para investigar mais. O que acontece quando substituímos a penúltima linha por `s[0] = s[0] + [1]`? E se nós substituirmos a linha com `s[0].append(1)`?"
   ]
  },
  {
   "cell_type": "code",
   "execution_count": null,
   "metadata": {},
   "outputs": [],
   "source": [
    "#O que acontece em cada caso\n",
    "\n",
    "#s = [0] * 3 -> Cria uma lista reoetindo o valor 0 3x\n",
    "#print(s)\n",
    "#s[0] += 1 -> Soma o valor 1 ao valor da posição [0] da lista \n",
    "#print(s)\n",
    "\n",
    "#s = [''] * 3 -> Cria uma lista com 3 espaços vazios\n",
    "#print(s)\n",
    "#s[0] += 'a' -> Adiciona o carcter \"a\" ao valor da posição [0] da lista\n",
    "#print(s)\n",
    "\n",
    "#s = [[]] * 3 -> Cria uma lista com 3 listas vazias\n",
    "#print(s)\n",
    "#s[0] += [1] -> Adiciona o valor 1 à posição [0] de cada lista, dentro da lista s (este fiquei com um pouco de dúvida)\n",
    "#print(s)\n",
    "\n",
    "#s = [[]] * 3 -> Cria uma lista com 3 listas vazias\n",
    "#print(s)\n",
    "#s[0] = s[0]+[1] -> Adiciona o valor 1 à lista de posição [0] apenas\n",
    "#print(s)\n",
    "\n",
    "#s = [[]] * 3 -> Cria uma lista com 3 listas vazias\n",
    "#print(s)\n",
    "#s[0].append(1) -> Adiciona o valor 1 à posição [0] de cada lista, dentro da lista usando o comando append (este fiquei com um pouco de dúvida)\n",
    "#print(s)"
   ]
  },
  {
   "cell_type": "markdown",
   "metadata": {},
   "source": [
    "### Tuplas\n",
    "\n",
    "Escreva uma função para calcular o [GCD](https://en.wikipedia.org/wiki/Greatest_common_divisor) de dois inteiros positivos. Você pode usar livremente o fato de que `gcd(a, b)` é matematicamente igual a `gcd(b, a % b)`, e que `gcd(a, 0) == a`.\n",
    "\n",
    "Você pode assumir que `a >= b` se quiser.\n",
    "\n",
    "É possível fazer isso em três linhas de código Python (ou ainda menos!). Considere explorar os conceitos de packing e unpacking!\n",
    "\n",
    "*Nota: A biblioteca padrão possui uma função `gcd`. Evite simplesmente importar essa função e usá-la aqui - o objetivo é praticar com o empacotamento (packing) e desempacotamento (unpacking) da tupla!*"
   ]
  },
  {
   "cell_type": "code",
   "execution_count": 31,
   "metadata": {},
   "outputs": [
    {
     "name": "stdout",
     "output_type": "stream",
     "text": [
      "5\n",
      "1\n",
      "3\n",
      "1\n"
     ]
    }
   ],
   "source": [
    "def gcd(a, b):\n",
    "    \"\"\"Compute the GCD of two positive integers.\"\"\"\n",
    "    while b:\n",
    "        a,b = b,a%b\n",
    "    return a\n",
    "                      \n",
    "print(gcd(10, 25)) # => 5\n",
    "print(gcd(14, 15)) # => 1\n",
    "print(gcd(3, 9)) # => 3\n",
    "print(gcd(1, 1)) # => 1"
   ]
  },
  {
   "cell_type": "markdown",
   "metadata": {},
   "source": [
    "### Dicionários\n",
    "\n",
    "Na aula, vimos uma implementação (ingênua) de uma compreensão do dicionário que troca as chaves e os valores em um dicionário:\n",
    "\n",
    "```\n",
    "{value: key for key, value in dictionary.items()}\n",
    "```\n",
    "\n",
    "No entanto, essa abordagem falhará quando houver duas chaves no dicionário com o mesmo valor. Por que isso falhará?\n",
    "\n",
    "Escreva uma função que inverte corretamente as chaves e valores de um dicionário - cada chave (originalmente um valor) deve mapear para uma coleção de valores (chaves originais) que foram mapeados para ela. Por exemplo,\n",
    "\n",
    "```\n",
    "flip_dict({\"CA\": \"US\", \"NY\": \"US\", \"ON\": \"CA\"})\n",
    "\n",
    "# => {\"US\": [\"CA\", \"NY\"], \"CA\": [\"ON\"]}\n",
    "\n",
    "\n",
    "```\n"
   ]
  },
  {
   "cell_type": "code",
   "execution_count": 13,
   "metadata": {},
   "outputs": [
    {
     "name": "stdout",
     "output_type": "stream",
     "text": [
      "{'US': ['CA', 'NY'], 'CA': ['ON']}\n"
     ]
    }
   ],
   "source": [
    "def flip_dict(input_dict):\n",
    "    \"\"\"Reverse the keys and values of a dictionary.\"\"\"\n",
    "    \n",
    "    new_dict = {}\n",
    "    \n",
    "    for key,value in input_dict.items():\n",
    "        if value not in new_dict:\n",
    "            new_dict[value] = [key]\n",
    "        else:\n",
    "            new_dict[value].append(key)\n",
    "        \n",
    "    return new_dict\n",
    "    \n",
    "print(flip_dict({\"CA\": \"US\", \"NY\": \"US\", \"ON\": \"CA\"}))"
   ]
  },
  {
   "cell_type": "markdown",
   "metadata": {},
   "source": [
    "### Compreensões (Comprehensions)\n",
    "\n",
    "Preveja a saída de cada uma das seguintes compreensões de lista. **Depois de ter escrito sua hipótese**, execute a célula de código para ver se você estava correto. Se você estava incorreto, discuta com um parceiro por que o código retorna o que ele faz.\n",
    "\n",
    "```Python\n",
    "[x for x in [1, 2, 3, 4]]\n",
    "[n - 2 for n in range(10)]\n",
    "[k % 10 for k in range(41) if k % 3 == 0]\n",
    "[s.lower() for s in ['PythOn', 'iS', 'cOoL'] if s[0] < s[-1]]\n",
    "\n",
    "# Something is fishy here. Can you spot it?\n",
    "arr = [[3,2,1], ['a','b','c'], [('do',), ['re'], 'mi']]\n",
    "print([el.append(el[0] * 4) for el in arr])  # What is printed?\n",
    "print(arr)  # What is the content of `arr` at this point?\n",
    "\n",
    "[letter for letter in \"pYthON\" if letter.isupper()]\n",
    "{len(w) for w in [\"its\", \"the\", \"remix\", \"to\", \"ignition\"]}\n",
    "```"
   ]
  },
  {
   "cell_type": "code",
   "execution_count": null,
   "metadata": {},
   "outputs": [],
   "source": [
    "#Minhas Hipóteses:\n",
    "\n",
    "# cria uma lista com os resultados de 1 a 4\n",
    "# cria uma sequência de subtrações dos números de 0 a 9 -2 cada um, o que resultará em : -2 a 7\n",
    "# cria uma lista com o resto da divisão de todos os números de 0 a 40 por 10 que sejam divisíeveis por 3 também\n",
    "# cria uma lista com a palavra toda em letras minúsculas se a primeira letra da palavra for menor do que a última (fiquei com um pouco de dúvida).\n",
    "\n",
    "# Cria uma lista com 3 outras listas dentro: uma com números, outra com letras, outra com palavras\n",
    "# Não entendi\n",
    "# Imprime uma lista adicionando o último item dentro de cada lista de arr - quando é string repete a string s[0] 4x\n",
    "\n",
    "# Cria uma lista com todas as letras maiúsculas da string\n",
    "# Retorna o tamanho de todas as palavras da lista, sem repetir caso tenha tamanho igual."
   ]
  },
  {
   "cell_type": "code",
   "execution_count": 1,
   "metadata": {},
   "outputs": [
    {
     "name": "stdout",
     "output_type": "stream",
     "text": [
      "[1, 2, 3, 4]\n",
      "[-2, -1, 0, 1, 2, 3, 4, 5, 6, 7]\n",
      "[0, 3, 6, 9, 2, 5, 8, 1, 4, 7, 0, 3, 6, 9]\n",
      "['python']\n",
      "[None, None, None]\n",
      "[[3, 2, 1, 12], ['a', 'b', 'c', 'aaaa'], [('do',), ['re'], 'mi', ('do', 'do', 'do', 'do')]]\n",
      "['Y', 'O', 'N']\n",
      "{8, 2, 3, 5}\n"
     ]
    }
   ],
   "source": [
    "# Predict the output of the following comprehensions. Does the output match what you expect?\n",
    "print([x for x in [1, 2, 3, 4]])\n",
    "print([n - 2 for n in range(10)])\n",
    "print([k % 10 for k in range(41) if k % 3 == 0])\n",
    "print([s.lower() for s in ['PythOn', 'iS', 'cOoL'] if s[0] < s[-1]])\n",
    "\n",
    "# Something is fishy here. Can you spot it?\n",
    "arr = [[3,2,1], ['a','b','c'], [('do',), ['re'], 'mi']]\n",
    "print([el.append(el[0] * 4) for el in arr])  # What is printed?\n",
    "print(arr)  # What is the content of `arr` at this point?\n",
    "\n",
    "print([letter for letter in \"pYthON\" if letter.isupper()])\n",
    "print({len(w) for w in [\"its\", \"the\", \"remix\", \"to\", \"ignition\"]})"
   ]
  },
  {
   "cell_type": "markdown",
   "metadata": {},
   "source": [
    "Agora escreva as compreensões para transformar a estrutura de dados de entrada na estrutura de dados de saída:\n",
    "\n",
    "```\n",
    "[0, 1, 2, 3] -> [1, 3, 5, 7]  # Double and add one\n",
    "['apple', 'orange', 'pear'] -> ['A', 'O', 'P']  # Capitalize first letter\n",
    "['apple', 'orange', 'pear'] -> ['apple', 'pear']  # Contains a 'p'\n",
    "\n",
    "[\"TA_sam\", \"student_poohbear\", \"TA_guido\", \"student_htiek\"] -> [\"sam\", \"guido\"]\n",
    "['apple', 'orange', 'pear'] -> [('apple', 5), ('orange', 6), ('pear', 4)]\n",
    "\n",
    "['apple', 'orange', 'pear'] -> {'apple': 5, 'orange': 6, 'pear': 4}\n",
    "```"
   ]
  },
  {
   "cell_type": "code",
   "execution_count": 47,
   "metadata": {},
   "outputs": [
    {
     "name": "stdout",
     "output_type": "stream",
     "text": [
      "[3, 7, 11, 15]\n",
      "['A', 'O', 'P']\n",
      "['apple', 'pear']\n",
      "['sam', 'guido']\n",
      "[('apple', 5), ('orange', 6), ('pear', 4)]\n",
      "{'apple': 5, 'orange': 6, 'pear': 4}\n"
     ]
    }
   ],
   "source": [
    "# Add your comprehensions here!\n",
    "nums = [1, 3, 5, 7]\n",
    "fruits = ['apple', 'orange', 'pear']\n",
    "people = [\"TA_sam\", \"student_poohbear\", \"TA_guido\", \"student_htiek\"]\n",
    "\n",
    "print([x*2+1 for x in nums])\n",
    "print([s.upper()[0] for s in fruits])\n",
    "print([fruit for fruit in fruits if \"p\" in fruit])\n",
    "print([name[3:] for name in people if name.startswith('TA_')])\n",
    "print([(fruit, len(fruit)) for fruit in fruits])\n",
    "print({fruit:len(fruit) for fruit in fruits}) "
   ]
  },
  {
   "cell_type": "markdown",
   "metadata": {},
   "source": [
    "### Triângulo de Pascal\n",
    "\n",
    "Escreva uma função que gere o próximo nível do [Triângulo de Pascal](https://en.wikipedia.org/wiki/Pascal%27s_triangle) dada uma lista que represente uma linha do triângulo de Pascal.\n",
    "\n",
    "```\n",
    "generate_pascal_row([1, 2, 1]) -> [1, 3, 3, 1]\n",
    "generate_pascal_row([1, 4, 6, 4, 1]) -> [1, 5, 10, 10, 5, 1]\n",
    "generate_pascal_row([]) -> [1]\n",
    "```\n",
    "\n",
    "Como lembrete, cada elemento em uma linha do triângulo de Pascal é formado pela soma dos dois elementos na linha anterior diretamente acima (à esquerda e à direita) desses elementos. Se houver apenas um elemento diretamente acima, adicionamos apenas aquele. Por exemplo, as primeiras 5 linhas do triângulo de Pascal se parecem com:\n",
    "\n",
    "```\n",
    "    1\n",
    "   1 1\n",
    "  1 2 1\n",
    " 1 3 3 1\n",
    "1 4 6 4 1\n",
    "```\n",
    "\n",
    "Você pode achar a função `zip` discutida brevemente na aula útil. Alternativamente, você poderia resolver este problema com o `enumerate`. Evite usar um loop no formato `for i em len(range(row)):`.\n",
    "\n",
    "*Dica: Confira o diagrama abaixo. Como você pode usar essa percepção para ajudar a resolver esse problema?*\n",
    "\n",
    "```\n",
    "  0 1 3 3 1\n",
    "+ 1 3 3 1 0\n",
    "-----------\n",
    "  1 4 6 4 1\n",
    "``` "
   ]
  },
  {
   "cell_type": "code",
   "execution_count": 2,
   "metadata": {},
   "outputs": [
    {
     "name": "stdout",
     "output_type": "stream",
     "text": [
      "[1, 3, 3, 1]\n",
      "[1, 5, 10, 10, 5, 1]\n",
      "[1]\n"
     ]
    }
   ],
   "source": [
    "def generate_pascal_row(row):\n",
    "    \"\"\"Generate the next row of Pascal's triangle.\"\"\"\n",
    "    if not row: return [1]\n",
    "    return [left + right for left, right in zip([0] + row, row + [0])]\n",
    "\n",
    "print(generate_pascal_row([1, 2, 1]))  # => [1, 3, 3, 1]\n",
    "print(generate_pascal_row([1, 4, 6, 4, 1]))  # => [1, 5, 10, 10, 5, 1]\n",
    "print(generate_pascal_row([]))  # => [1]"
   ]
  },
  {
   "cell_type": "markdown",
   "metadata": {},
   "source": [
    "#### Impressão bonita Pascal (Opcional)\n",
    "\n",
    "Dado um número `n`, imprima as primeiras `n` linhas do triângulo de Pascal, centrando cada linha. Você deve usar a função `generate_pascal_row` que você escreveu anteriormente. O triângulo de Pascal com 1 linha contém apenas o número '1'.\n",
    "\n",
    "Para centralizar uma string em Python, você pode usar o método `.center(width)`. Por exemplo:\n",
    "\n",
    "```\n",
    "\"CS41\".center(10)  # => '   CS41   '\n",
    "```\n",
    "\n",
    "Você pode até mesmo especificar um `fillchar` opcional para preencher com caracteres diferentes de espaços!\n",
    "\n",
    "A parte mais difícil desse problema é determinar a largura da linha inferior do triângulo. Você precisará gerar todas as linhas do triângulo e armazená-las antes de poder imprimir qualquer uma delas."
   ]
  },
  {
   "cell_type": "code",
   "execution_count": null,
   "metadata": {},
   "outputs": [],
   "source": [
    "def print_pascal_triangle(n):\n",
    "    \"\"\"Print the first n rows of Pascal's triangle.\"\"\"\n",
    "    pass"
   ]
  },
  {
   "cell_type": "markdown",
   "metadata": {},
   "source": [
    "## Palavras Especiais\n",
    "\n",
    "Para cada um dos problemas a seguir, descrevemos um critério que torna uma palavra (ou frase!) Especial, similar às nossas \"Palavras eficientes\" da aula.\n",
    "\n",
    "Se você estiver usando macOS ou Linux, você deve ter um arquivo de dicionário disponível em `/usr/share/dict/words`, um arquivo de texto de 2.5M contendo mais de 200 mil palavras em inglês, uma por linha. Entretanto, também está disponível este arquivo em `https://stanfordpython.com/res/misc/words`, para que você possa baixar o dicionário de lá, se o seu computador não tiver este arquivo de dicionário prontamente disponível.\n",
    "\n",
    "Qual seria uma estrutura de dados apropriada para armazenar as palavras em inglês?\n",
    "\n",
    "Escreva o método `load_english` para carregar palavras inglesas deste arquivo. Quantas palavras inglesas existem neste arquivo?"
   ]
  },
  {
   "cell_type": "code",
   "execution_count": 1,
   "metadata": {},
   "outputs": [
    {
     "name": "stdout",
     "output_type": "stream",
     "text": [
      "235886\n"
     ]
    }
   ],
   "source": [
    "# If you downloaded words from the course website,\n",
    "# change me to the path to the downloaded file.\n",
    "DICTIONARY_FILE = 'C:/Users/User/Documents/word/words'\n",
    "\n",
    "def load_english():\n",
    "    \"\"\"Load and return a collection of english words from a file.\"\"\"\n",
    "    words = []\n",
    "    with open(DICTIONARY_FILE, 'r') as f:\n",
    "        for word in f.readlines():\n",
    "            words.append(word.strip())\n",
    "        \n",
    "    return words\n",
    "\n",
    "english = load_english()\n",
    "print(len(english))"
   ]
  },
  {
   "cell_type": "markdown",
   "metadata": {},
   "source": [
    "### Frases Tríade\n",
    "\n",
    "Palavras Tríade são palavras em inglês para as quais as duas strings menores que você faz, extraindo letras alternadas, formam palavras válidas.\n",
    "\n",
    "Por examplo:\n",
    "\n",
    "![Triad Phrases](http://i.imgur.com/jGEXJWi.png)\n",
    "\n",
    "Escreva uma função para determinar se uma frase inteira passada em uma função **é feita de** palavras tríade. Você pode assumir que todas as palavras são feitas apenas de caracteres alfabéticos e são separadas por espaço em branco. Consideraremos a string vazia como uma palavra inglesa inválida.\n",
    "\n",
    "```\n",
    "is_triad_phrase(\"learned theorem\") # => True\n",
    "is_triad_phrase(\"studied theories\") # => False\n",
    "is_triad_phrase(\"wooded agrarians\") # => True\n",
    "is_triad_phrase(\"forrested farmers\") # => False\n",
    "is_triad_phrase(\"schooled oriole\") # => True\n",
    "is_triad_phrase(\"educated small bird\") # => False\n",
    "is_triad_phrase(\"a\") # => False\n",
    "is_triad_phrase(\"\") # => False\n",
    "```\n",
    "\n",
    "Gere uma lista de todas as palavras tríade. Quantos estão lá? Encontramos 2770 palavras tríade distintas (case-insensitive)."
   ]
  },
  {
   "cell_type": "code",
   "execution_count": 17,
   "metadata": {},
   "outputs": [
    {
     "name": "stdout",
     "output_type": "stream",
     "text": [
      "True\n",
      "False\n",
      "True\n",
      "False\n",
      "True\n",
      "False\n",
      "False\n",
      "True\n",
      "Número de palavras tríades encontradas: 2149\n"
     ]
    }
   ],
   "source": [
    "def is_triad_word(word, english):\n",
    "    \"\"\"Return whether a word is a triad word.\"\"\"\n",
    "   \n",
    "    return word[::2] in english and word[1::2] in english\n",
    "\n",
    "    \n",
    "def is_triad_phrase(phrase, english):\n",
    "    \"\"\"Return whether a phrase is composed of only triad words.\"\"\"\n",
    "    \n",
    "    return all([is_triad_word(word, english) for word in phrase.split()])\n",
    "\n",
    "#Teste\n",
    "print(is_triad_phrase(\"learned theorem\", english)) # => True\n",
    "print(is_triad_phrase(\"studied theories\", english)) # => False\n",
    "print(is_triad_phrase(\"wooded agrarians\", english)) # => True\n",
    "print(is_triad_phrase(\"forrested farmers\", english)) # => False\n",
    "print(is_triad_phrase(\"schooled oriole\", english)) # => True\n",
    "print(is_triad_phrase(\"educated small bird\", english)) # => False\n",
    "print(is_triad_phrase(\"a\", english)) # => False\n",
    "print(is_triad_phrase(\"\", english)) # => False\n",
    "\n",
    "english = load_english()\n",
    "triad_words = [word for word in english if is_triad_word(word, english)]\n",
    "print(\"Número de palavras tríades encontradas: {}\".format(len(triad_words)))"
   ]
  },
  {
   "cell_type": "markdown",
   "metadata": {},
   "source": [
    "### Frases Crescentes (challenge)\n",
    "\n",
    "As Palavras Crescentes são as palavras inglesas para as quais a distância entre cada par adjacente de letras aumenta estritamente.\n",
    "\n",
    "Por exemplo:\n",
    "\n",
    "![Surpassing Phrases](http://i.imgur.com/XKiCnUc.png)\n",
    "\n",
    "Escreva uma função para determinar se uma frase inteira passada em uma função é feita de palavras Palavras Crescentes. Você pode assumir que todas as palavras são feitas apenas de caracteres alfabéticos e são separadas por espaço em branco. Consideraremos a string vazia e uma string de 1 caractere como válidas para uma Palavras Crescentes.\n",
    "\n",
    "```python\n",
    "is_surpassing_phrase(\"superb subway\") # => True\n",
    "is_surpassing_phrase(\"excellent train\") # => False\n",
    "is_surpassing_phrase(\"porky hogs\") # => True\n",
    "is_surpassing_phrase(\"plump pigs\") # => False\n",
    "is_surpassing_phrase(\"turnip fields\") # => True\n",
    "is_surpassing_phrase(\"root vegetable lands\") # => False\n",
    "is_surpassing_phrase(\"a\") # => True\n",
    "is_surpassing_phrase(\"\") # => True\n",
    "```\n",
    "\n",
    "Nós fornecemos uma função `character_gap` que retorna o espaço entre dois caracteres. Para entender como funciona, primeiro você deve aprender sobre as funções do Python `ord` (string de um caractere para ordinal inteiro) e` chr` (ordinal de inteiro para uma string de um caractere). Por exemplo:\n",
    "\n",
    "```python\n",
    "ord('a') # => 97\n",
    "chr(97) # => 'a'\n",
    "```\n",
    "\n",
    "Assim, para encontrar a lacuna entre `G` e` E`, calculamos `abs(ord('G') - ord('E'))`, onde `abs` retorna o valor absoluto de seu argumento.\n",
    "\n",
    "Gere uma lista de todas as Palavras Crescentes. Quantos estão lá? Encontramos 1931 palavras distintas."
   ]
  },
  {
   "cell_type": "code",
   "execution_count": 16,
   "metadata": {},
   "outputs": [
    {
     "name": "stdout",
     "output_type": "stream",
     "text": [
      "True\n",
      "False\n",
      "True\n",
      "False\n",
      "True\n",
      "False\n",
      "True\n",
      "True\n",
      "Número de palavras crescentes encontradas: 1769\n"
     ]
    }
   ],
   "source": [
    "def character_gap(left, right):\n",
    "    \"\"\"Return the absolute gap between two characters.\"\"\"\n",
    "    return abs(ord(left) - ord(right))\n",
    "\n",
    "def is_surpassing_word(word):\n",
    "    \"\"\"Return whether a word is surpassing.\"\"\"\n",
    "    distances = [character_gap(left, right) for left, right in zip(word, word[1:])]\n",
    "    return all(left < right for left, right in zip(distances, distances[1:]))\n",
    "\n",
    "def is_surpassing_phrase(phrase):\n",
    "    \"\"\"Return whether a word is surpassing.\"\"\"\n",
    "    return all([is_surpassing_word(word) for word in phrase.split()])\n",
    "\n",
    "#Teste\n",
    "print(is_surpassing_phrase(\"superb subway\")) # => True\n",
    "print(is_surpassing_phrase(\"excellent train\")) # => False\n",
    "print(is_surpassing_phrase(\"porky hogs\")) # => True\n",
    "print(is_surpassing_phrase(\"plump pigs\")) # => False\n",
    "print(is_surpassing_phrase(\"turnip fields\")) # => True\n",
    "print(is_surpassing_phrase(\"root vegetable lands\")) # => False\n",
    "print(is_surpassing_phrase(\"a\")) # => True\n",
    "print(is_surpassing_phrase(\"\")) # => True\n",
    "\n",
    "english = load_english()\n",
    "surpassing_words = [word for word in english if is_surpassing_word(word)]\n",
    "print(\"Número de palavras crescentes encontradas: {}\".format(len(surpassing_words)))\n"
   ]
  },
  {
   "cell_type": "code",
   "execution_count": 15,
   "metadata": {},
   "outputs": [
    {
     "name": "stdout",
     "output_type": "stream",
     "text": [
      "True\n",
      "False\n",
      "True\n",
      "False\n",
      "True\n",
      "True\n",
      "Foram encontradas 1328 palavras ciclone.\n"
     ]
    }
   ],
   "source": [
    "def is_cyclone_word(word):\n",
    "    \"\"\"Return whether a word is a cyclone word.\"\"\"\n",
    "    word_reverse = word[-1:0:-1]\n",
    "    word_new = \"\"\n",
    "    for a, b in zip(word, word_reverse):\n",
    "        word_new += a + b\n",
    "    \n",
    "    word_new = word_new[:(len(word_new)//2)+1]\n",
    "    \n",
    "    for i in range(1, len(word_new)):\n",
    "        if word_new[i-1] > word_new[i]:\n",
    "            return False\n",
    "    \n",
    "    return True\n",
    "    \n",
    "def is_cyclone_phrase(phrase):\n",
    "    \"\"\"Return whether a phrase is composed only of cyclone words.\"\"\"\n",
    "    words = phrase.split()\n",
    "    \n",
    "    for wd in words:\n",
    "        if not is_cyclone_word(wd):\n",
    "            return False\n",
    "        \n",
    "    return True\n",
    "\n",
    "#Teste\n",
    "print(is_cyclone_phrase(\"adjourned\")) # => True\n",
    "print(is_cyclone_phrase(\"settled\")) # => False\n",
    "print(is_cyclone_phrase(\"all alone at noon\")) # => True\n",
    "print(is_cyclone_phrase(\"by myself at twelve pm\")) # => False\n",
    "print(is_cyclone_phrase(\"acb\")) # => True\n",
    "print(is_cyclone_phrase(\"\")) # => True\n",
    "\n",
    "#Encontrar todas as palavras\n",
    "all_cyclone_words = []\n",
    "\n",
    "for w in english:\n",
    "    if is_cyclone_word(w):\n",
    "        all_cyclone_words.append(w)\n",
    "        \n",
    "print(f\"Foram encontradas {len(all_cyclone_words)} palavras ciclone.\")"
   ]
  },
  {
   "cell_type": "markdown",
   "metadata": {},
   "source": [
    "### Palavras Triângulo\n",
    "O enésimo termo da seqüência de números Triângulo é dado por 1 + 2 + ... + n = n(n+1) / 2. Por exemplo, os primeiros dez números Triângulo são:\n",
    "\n",
    "`1, 3, 6, 10, 15, 21, 28, 36, 45, 55, ...`\n",
    "\n",
    "Convertendo cada letra em uma palavra para um número correspondente à sua posição alfabética (`A = 1`,` B = 2`, etc) e somando estes valores, formamos um valor da palavra. Por exemplo, o valor da palavra para SKY é 19 + 11 + 25 = 55 e 55 é um número Triângulo. Se o valor da palavra é um número Triângulo, então devemos chamar a palavra uma palavra Triângulo.\n",
    "\n",
    "Gere uma lista de todas as palavras Triângulo. Quantos estão lá? Como teste de sanidade, encontramos 16303 palavras Triângulo distintas.\n",
    "\n",
    "* Dica: você pode usar `ord (ch)` para obter o valor ASCII inteiro de um caractere. Você também pode usar um dicionário para conseguir isso! *"
   ]
  },
  {
   "cell_type": "code",
   "execution_count": 19,
   "metadata": {},
   "outputs": [],
   "source": [
    "def is_triangle_word(word):\n",
    "    \"\"\"Return whether a word is a triangle word.\"\"\"\n",
    "    pass   "
   ]
  },
  {
   "cell_type": "markdown",
   "metadata": {},
   "source": [
    "## Acabou cedo?\n",
    "\n",
    "Leia o [Guia de Estilo do Python](https://www.python.org/dev/peps/pep-0008/), mantendo em mente o Zen do Python. Sinta-se livre para pular partes do guia de estilo que cobrem o material que ainda não tocamos nesta aula, mas é sempre bom começar com uma visão geral do bom estilo."
   ]
  }
 ],
 "metadata": {
  "kernelspec": {
   "display_name": "Python 3",
   "language": "python",
   "name": "python3"
  },
  "language_info": {
   "codemirror_mode": {
    "name": "ipython",
    "version": 3
   },
   "file_extension": ".py",
   "mimetype": "text/x-python",
   "name": "python",
   "nbconvert_exporter": "python",
   "pygments_lexer": "ipython3",
   "version": "3.7.1"
  }
 },
 "nbformat": 4,
 "nbformat_minor": 2
}
